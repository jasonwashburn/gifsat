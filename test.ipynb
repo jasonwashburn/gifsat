{
 "cells": [
  {
   "cell_type": "code",
   "execution_count": 2,
   "metadata": {},
   "outputs": [],
   "source": [
    "from goes2go.data import goes_latest, goes_timerange, goes_nearesttime\n",
    "\n",
    "import matplotlib.pyplot as plt\n",
    "import cartopy.crs as ccrs\n",
    "import datetime as dt\n",
    "import xarray as xr\n",
    "from rich import print as rprint\n",
    "from pathlib import Path\n",
    "\n",
    "from app.gifsat import netcdf_to_png, make_centered_extent, BBox, make_gif"
   ]
  },
  {
   "cell_type": "code",
   "execution_count": 3,
   "metadata": {},
   "outputs": [],
   "source": [
    "end = dt.datetime.utcnow() - dt.timedelta(hours=2)\n",
    "start = end - dt.timedelta(minutes=120)\n",
    "bounding_box = make_centered_extent(lon=-95, lat=41, width=12, height=8)\n",
    "\n",
    "def create_gif_from_goes(start_time, end_time, bounding_box: BBox, gif_file_path=\"/tmp/animated.gif\", satellite='goes16', product='ABI', domain=\"C\", save_dir=\"/tmp\", night_IR=False):\n",
    "    \n",
    "    g_df = goes_timerange(start_time, end_time,\n",
    "                    satellite=satellite,\n",
    "                    product=product,\n",
    "                    domain=domain,\n",
    "                    save_dir=save_dir,\n",
    "                    return_as='filelist')\n",
    "    \n",
    "    list_of_pngs = []\n",
    "    for file in g_df.file.to_list():\n",
    "        nc_file_path = f\"{save_dir}/{file}\"\n",
    "        print(f\"Processing {nc_file_path}...\")\n",
    "        list_of_pngs.append(netcdf_to_png(nc_file=nc_file_path, output_dir=\"/tmp\", bounding_box=bounding_box, night_IR=night_IR))\n",
    "        \n",
    "    make_gif(list_of_pngs=list_of_pngs, file_path=gif_file_path)\n",
    "    "
   ]
  },
  {
   "cell_type": "code",
   "execution_count": 4,
   "metadata": {},
   "outputs": [
    {
     "name": "stdout",
     "output_type": "stream",
     "text": [
      " _______________________________\n",
      " | Satellite: noaa-goes16      |\n",
      " |   Product: ABI-L2-MCMIPC    |\n",
      " |    Domain: C                |\n",
      "📦 Finished downloading [24] files to [/tmp/noaa-goes16/ABI-L2-MCMIPC].                                                                                                                                                                                                                                                                                                                                                                                                                                                                                                                                                                                                                                                                                                                                                                                                                                                                                                                                                                 \n",
      "Processing /tmp/noaa-goes16/ABI-L2-MCMIPC/2022/161/23/OR_ABI-L2-MCMIPC-M6_G16_s20221612306183_e20221612308556_c20221612309062.nc...\n",
      "Processing /tmp/noaa-goes16/ABI-L2-MCMIPC/2022/161/23/OR_ABI-L2-MCMIPC-M6_G16_s20221612311183_e20221612313556_c20221612314061.nc...\n",
      "Processing /tmp/noaa-goes16/ABI-L2-MCMIPC/2022/161/23/OR_ABI-L2-MCMIPC-M6_G16_s20221612316183_e20221612318556_c20221612319058.nc...\n",
      "Processing /tmp/noaa-goes16/ABI-L2-MCMIPC/2022/161/23/OR_ABI-L2-MCMIPC-M6_G16_s20221612321183_e20221612323556_c20221612324073.nc...\n",
      "Processing /tmp/noaa-goes16/ABI-L2-MCMIPC/2022/161/23/OR_ABI-L2-MCMIPC-M6_G16_s20221612326183_e20221612328562_c20221612329060.nc...\n",
      "Processing /tmp/noaa-goes16/ABI-L2-MCMIPC/2022/161/23/OR_ABI-L2-MCMIPC-M6_G16_s20221612331183_e20221612333556_c20221612334059.nc...\n",
      "Processing /tmp/noaa-goes16/ABI-L2-MCMIPC/2022/161/23/OR_ABI-L2-MCMIPC-M6_G16_s20221612336183_e20221612338562_c20221612339056.nc...\n",
      "Processing /tmp/noaa-goes16/ABI-L2-MCMIPC/2022/161/23/OR_ABI-L2-MCMIPC-M6_G16_s20221612341183_e20221612343556_c20221612344057.nc...\n",
      "Processing /tmp/noaa-goes16/ABI-L2-MCMIPC/2022/161/23/OR_ABI-L2-MCMIPC-M6_G16_s20221612346183_e20221612348568_c20221612349054.nc...\n",
      "Processing /tmp/noaa-goes16/ABI-L2-MCMIPC/2022/161/23/OR_ABI-L2-MCMIPC-M6_G16_s20221612351183_e20221612353556_c20221612354058.nc...\n",
      "Processing /tmp/noaa-goes16/ABI-L2-MCMIPC/2022/161/23/OR_ABI-L2-MCMIPC-M6_G16_s20221612356183_e20221612358562_c20221612359058.nc...\n",
      "Processing /tmp/noaa-goes16/ABI-L2-MCMIPC/2022/162/00/OR_ABI-L2-MCMIPC-M6_G16_s20221620001183_e20221620003562_c20221620004056.nc...\n",
      "Processing /tmp/noaa-goes16/ABI-L2-MCMIPC/2022/162/00/OR_ABI-L2-MCMIPC-M6_G16_s20221620006183_e20221620008556_c20221620009063.nc...\n",
      "Processing /tmp/noaa-goes16/ABI-L2-MCMIPC/2022/162/00/OR_ABI-L2-MCMIPC-M6_G16_s20221620011183_e20221620013556_c20221620014057.nc...\n",
      "Processing /tmp/noaa-goes16/ABI-L2-MCMIPC/2022/162/00/OR_ABI-L2-MCMIPC-M6_G16_s20221620016183_e20221620018556_c20221620019058.nc...\n",
      "Processing /tmp/noaa-goes16/ABI-L2-MCMIPC/2022/162/00/OR_ABI-L2-MCMIPC-M6_G16_s20221620021183_e20221620023556_c20221620024059.nc...\n",
      "Processing /tmp/noaa-goes16/ABI-L2-MCMIPC/2022/162/00/OR_ABI-L2-MCMIPC-M6_G16_s20221620026183_e20221620028562_c20221620029056.nc...\n",
      "Processing /tmp/noaa-goes16/ABI-L2-MCMIPC/2022/162/00/OR_ABI-L2-MCMIPC-M6_G16_s20221620031183_e20221620033568_c20221620034058.nc...\n",
      "Processing /tmp/noaa-goes16/ABI-L2-MCMIPC/2022/162/00/OR_ABI-L2-MCMIPC-M6_G16_s20221620036183_e20221620038562_c20221620039056.nc...\n",
      "Processing /tmp/noaa-goes16/ABI-L2-MCMIPC/2022/162/00/OR_ABI-L2-MCMIPC-M6_G16_s20221620041183_e20221620043562_c20221620044058.nc...\n",
      "Processing /tmp/noaa-goes16/ABI-L2-MCMIPC/2022/162/00/OR_ABI-L2-MCMIPC-M6_G16_s20221620046183_e20221620048568_c20221620049057.nc...\n",
      "Processing /tmp/noaa-goes16/ABI-L2-MCMIPC/2022/162/00/OR_ABI-L2-MCMIPC-M6_G16_s20221620051183_e20221620053568_c20221620054060.nc...\n",
      "Processing /tmp/noaa-goes16/ABI-L2-MCMIPC/2022/162/00/OR_ABI-L2-MCMIPC-M6_G16_s20221620056183_e20221620058568_c20221620059060.nc...\n",
      "Processing /tmp/noaa-goes16/ABI-L2-MCMIPC/2022/162/01/OR_ABI-L2-MCMIPC-M6_G16_s20221620101183_e20221620103556_c20221620104055.nc...\n"
     ]
    }
   ],
   "source": [
    "create_gif_from_goes(start_time=start, end_time=end, bounding_box=bounding_box, night_IR=True)"
   ]
  },
  {
   "cell_type": "code",
   "execution_count": 5,
   "metadata": {},
   "outputs": [
    {
     "ename": "NameError",
     "evalue": "name 'get_storm_info' is not defined",
     "output_type": "error",
     "traceback": [
      "\u001b[0;31m---------------------------------------------------------------------------\u001b[0m",
      "\u001b[0;31mNameError\u001b[0m                                 Traceback (most recent call last)",
      "\u001b[0;32m/tmp/ipykernel_29836/1364623657.py\u001b[0m in \u001b[0;36m<module>\u001b[0;34m\u001b[0m\n\u001b[0;32m----> 1\u001b[0;31m \u001b[0mprint\u001b[0m\u001b[0;34m(\u001b[0m\u001b[0mget_storm_info\u001b[0m\u001b[0;34m(\u001b[0m\u001b[0;34m)\u001b[0m\u001b[0;34m)\u001b[0m\u001b[0;34m\u001b[0m\u001b[0;34m\u001b[0m\u001b[0m\n\u001b[0m",
      "\u001b[0;31mNameError\u001b[0m: name 'get_storm_info' is not defined"
     ]
    },
    {
     "ename": "",
     "evalue": "",
     "output_type": "error",
     "traceback": [
      "\u001b[1;31mThe Kernel crashed while executing code in the the current cell or a previous cell. Please review the code in the cell(s) to identify a possible cause of the failure. Click <a href='https://aka.ms/vscodeJupyterKernelCrash'>here</a> for more info. View Jupyter <a href='command:jupyter.viewOutput'>log</a> for further details."
     ]
    }
   ],
   "source": [
    "print(get_storm_info())"
   ]
  },
  {
   "cell_type": "code",
   "execution_count": null,
   "metadata": {},
   "outputs": [],
   "source": []
  }
 ],
 "metadata": {
  "interpreter": {
   "hash": "d4d1e4263499bec80672ea0156c357c1ee493ec2b1c70f0acce89fc37c4a6abe"
  },
  "kernelspec": {
   "display_name": "Python 3.9.5 ('base')",
   "language": "python",
   "name": "python3"
  },
  "language_info": {
   "codemirror_mode": {
    "name": "ipython",
    "version": 3
   },
   "file_extension": ".py",
   "mimetype": "text/x-python",
   "name": "python",
   "nbconvert_exporter": "python",
   "pygments_lexer": "ipython3",
   "version": "3.9.7"
  },
  "orig_nbformat": 4
 },
 "nbformat": 4,
 "nbformat_minor": 2
}
